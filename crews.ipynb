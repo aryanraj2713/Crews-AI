{
 "cells": [
  {
   "cell_type": "code",
   "execution_count": 1,
   "metadata": {},
   "outputs": [],
   "source": [
    "# from dotenv import load_dotenv\n",
    "# load_dotenv()\n",
    "# GROQ_API_KEY=os.environ.get('GROQ_API_KEY')\n",
    "\n",
    "\n",
    "# # pip install -U 'crewai[tools]' mdpdf\n"
   ]
  },
  {
   "cell_type": "code",
   "execution_count": 1,
   "metadata": {},
   "outputs": [
    {
     "name": "stderr",
     "output_type": "stream",
     "text": [
      "/Users/aryanraj/Developer/Crews-AI/.venv/lib/python3.12/site-packages/langchain/agents/json_chat/base.py:22: SyntaxWarning: invalid escape sequence '\\ '\n",
      "  \"\"\"Create an agent that uses JSON to format its logic, build for Chat Models.\n",
      "/Users/aryanraj/Developer/Crews-AI/.venv/lib/python3.12/site-packages/pysbd/segmenter.py:66: SyntaxWarning: invalid escape sequence '\\s'\n",
      "  for match in re.finditer('{0}\\s*'.format(re.escape(sent)), self.original_text):\n",
      "/Users/aryanraj/Developer/Crews-AI/.venv/lib/python3.12/site-packages/pysbd/lang/arabic.py:29: SyntaxWarning: invalid escape sequence '\\.'\n",
      "  txt = re.sub('(?<={0})\\.'.format(am), '∯', txt)\n",
      "/Users/aryanraj/Developer/Crews-AI/.venv/lib/python3.12/site-packages/pysbd/lang/persian.py:29: SyntaxWarning: invalid escape sequence '\\.'\n",
      "  txt = re.sub('(?<={0})\\.'.format(am), '∯', txt)\n"
     ]
    }
   ],
   "source": [
    "from crewai import Agent, Task, Crew, Process\n",
    "from crewai_tools import tool\n",
    "from crewai_tools.tools import FileReadTool\n",
    "import os, requests, re, mdpdf, subprocess\n",
    "from openai import OpenAI\n",
    "from langchain_groq import ChatGroq\n"
   ]
  },
  {
   "cell_type": "code",
   "execution_count": 2,
   "metadata": {},
   "outputs": [],
   "source": [
    "llm =ChatGroq(\n",
    "    groq_api_base=\"https://api.groq.com/openai/v1\", # https://api.openai.com/v1 \n",
    "    groq_api_key=os.getenv(\"GROQ_API_KEY\"), \n",
    "    model_name=\"mixtral-8x7b-32768\" \n",
    ")"
   ]
  },
  {
   "cell_type": "code",
   "execution_count": 4,
   "metadata": {},
   "outputs": [],
   "source": [
    "from langchain.chains import LLMChain\n",
    "from langchain.memory import ConversationBufferMemory, ReadOnlySharedMemory\n",
    "from langchain.prompts import PromptTemplate\n",
    "from langchain_community.tools import DuckDuckGoSearchRun"
   ]
  },
  {
   "cell_type": "code",
   "execution_count": 5,
   "metadata": {},
   "outputs": [],
   "source": [
    "\n",
    "llm = ChatGroq(temperature=0.4, groq_api_key='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', model_name=\"mixtral-8x7b-32768\")\n",
    "\n"
   ]
  },
  {
   "cell_type": "code",
   "execution_count": 6,
   "metadata": {},
   "outputs": [],
   "source": [
    "from langchain.agents import  Tool\n",
    "template = \"\"\"This is a conversation between a human and ai agent:\n",
    "\n",
    "{chat_history}\n",
    "\n",
    "Write a summary of the conversation for {input}:\n",
    "\"\"\"\n",
    "\n",
    "prompt = PromptTemplate(input_variables=[\"input\", \"chat_history\"], template=template)\n",
    "memory = ConversationBufferMemory(memory_key=\"chat_history\")\n",
    "readonlymemory = ReadOnlySharedMemory(memory=memory)\n",
    "summary_chain = LLMChain(\n",
    "    llm=llm,\n",
    "    prompt=prompt,\n",
    "    verbose=True,\n",
    "    memory=readonlymemory,  \n",
    ")"
   ]
  },
  {
   "cell_type": "code",
   "execution_count": 7,
   "metadata": {},
   "outputs": [],
   "source": [
    "search =  DuckDuckGoSearchRun()\n",
    "\n",
    "tool_use = [\n",
    "    Tool(\n",
    "        name=\"Search\",\n",
    "        func=search.run,\n",
    "        description=\"useful for when you need to answer questions about current events\",\n",
    "    ),\n",
    "    Tool(\n",
    "        name=\"Summary\",\n",
    "        func=summary_chain.run,\n",
    "        description=\"useful for when you summarize a conversation. The input to this tool should be a string, representing who will read this summary.\",\n",
    "    )\n",
    "\n",
    "]\n",
    "\n",
    "tool_use_1 = [\n",
    "    Tool(\n",
    "        name=\"Summary\",\n",
    "        func=summary_chain.run,\n",
    "        description=\"useful for when you summarize a conversation. The input to this tool should be a string, representing who will read this summary.\",\n",
    "    )\n",
    "]"
   ]
  },
  {
   "cell_type": "code",
   "execution_count": 8,
   "metadata": {},
   "outputs": [],
   "source": [
    "email_author = Agent(\n",
    "    role='Professional Email Author',\n",
    "    goal='Craft concise and engaging emails',\n",
    "    backstory='Experienced in writing impactful marketing emails.',\n",
    "    verbose=True,\n",
    "    allow_delegation=False,\n",
    "    llm=llm,\n",
    "    tools=tool_use\n",
    ")\n",
    "marketing_strategist = Agent(\n",
    "    role='Marketing Strategist',\n",
    "    goal='Lead the team in creating effective cold emails',\n",
    "    backstory='A seasoned Chief Marketing Officer with a keen eye for standout marketing content.',\n",
    "    verbose=True,\n",
    "    allow_delegation=True,\n",
    "    llm=llm,\n",
    "    tools=tool_use_1\n",
    ")\n",
    "\n",
    "content_specialist = Agent(\n",
    "    role='Content Specialist',\n",
    "    goal='Critique and refine email content',\n",
    "    backstory='A professional copywriter with a wealth of experience in persuasive writing.',\n",
    "    verbose=True,\n",
    "    allow_delegation=False,\n",
    "    llm=llm,\n",
    "    tools=tool_use_1\n",
    "    )\n",
    "\n",
    "     "
   ]
  },
  {
   "cell_type": "code",
   "execution_count": 9,
   "metadata": {},
   "outputs": [],
   "source": [
    "email_task = Task(\n",
    "    description='''1. Generate two distinct variations of a cold email promoting a video editing solution.\n",
    "    2. Evaluate the written emails for their effectiveness and engagement.\n",
    "    3. Scrutinize the emails for grammatical correctness and clarity.\n",
    "    4. Adjust the emails to align with best practices for cold outreach. Consider the feedback\n",
    "    provided to the marketing_strategist.\n",
    "    5. Revise the emails based on all feedback, creating two final versions.''',\n",
    "    expected_output='Two final versions of the cold email after considering all feedback.',\n",
    "    agent=marketing_strategist \n",
    ")"
   ]
  },
  {
   "cell_type": "code",
   "execution_count": 11,
   "metadata": {},
   "outputs": [
    {
     "name": "stderr",
     "output_type": "stream",
     "text": [
      "2024-04-17 08:58:14,001 - 8218344128 - __init__.py-__init__:518 - WARNING: Overriding of current TracerProvider is not allowed\n"
     ]
    }
   ],
   "source": [
    "import sys\n",
    "\n",
    "# Redirecting stdout to a file\n",
    "sys.stdout = open('output_file.txt', 'w')\n",
    "\n",
    "email_crew = Crew(\n",
    "    agents=[email_author, marketing_strategist, content_specialist],\n",
    "    tasks=[email_task],\n",
    "    verbose=True,\n",
    "    process=Process.sequential\n",
    ")\n",
    "\n",
    "# Execution Flow\n",
    "print(\"Crew: Working on Email Task\")\n",
    "emails_output = email_crew.kickoff()"
   ]
  },
  {
   "cell_type": "code",
   "execution_count": null,
   "metadata": {},
   "outputs": [],
   "source": []
  }
 ],
 "metadata": {
  "kernelspec": {
   "display_name": "venv",
   "language": "python",
   "name": "python3"
  },
  "language_info": {
   "codemirror_mode": {
    "name": "ipython",
    "version": 3
   },
   "file_extension": ".py",
   "mimetype": "text/x-python",
   "name": "python",
   "nbconvert_exporter": "python",
   "pygments_lexer": "ipython3",
   "version": "3.12.2"
  }
 },
 "nbformat": 4,
 "nbformat_minor": 2
}
